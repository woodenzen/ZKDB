{
 "cells": [
  {
   "attachments": {},
   "cell_type": "markdown",
   "metadata": {},
   "source": [
    "The start of a little script that would be table show month number of note creation.\n",
    "\t- it could be expanded to show year over year \n",
    "\t- especially nice if compact enough\n",
    "\t- Make markdown compatible \n",
    "\t- Add a per/day by the month score.\n",
    "\t\n",
    "ls /Users/will/Dropbox/zettelkasten | grep \"202305\" > list.txt\n",
    "awk '{print $NF \" \" $0}' list.txt | sort -r | cut -d' ' -f2-\n",
    "\n",
    "ls /Users/will/Dropbox/zettelkasten | grep \"202305\" | wc -l \n",
    "\t81\n",
    "ls /Users/will/Dropbox/zettelkasten | grep \"202306\" | wc -l\n",
    "    8\t\n",
    "\n",
    "![Monthly](./images/monthly.png)\n",
    "\n",
    "\n"
   ]
  },
  {
   "cell_type": "code",
   "execution_count": 1,
   "metadata": {},
   "outputs": [
    {
     "name": "stdout",
     "output_type": "stream",
     "text": [
      "       1\n"
     ]
    }
   ],
   "source": [
    "ls /Users/will/Dropbox/zettelkasten | grep \"201803\" | wc -l"
   ]
  },
  {
   "cell_type": "code",
   "execution_count": 16,
   "metadata": {},
   "outputs": [
    {
     "name": "stdout",
     "output_type": "stream",
     "text": [
      "      81\n"
     ]
    }
   ],
   "source": [
    "\n",
    "ls /Users/will/Dropbox/zettelkasten | grep \"202305\" | wc -l # > list.txt\n"
   ]
  },
  {
   "cell_type": "code",
   "execution_count": 17,
   "metadata": {},
   "outputs": [
    {
     "name": "stdout",
     "output_type": "stream",
     "text": [
      "       8\n"
     ]
    }
   ],
   "source": [
    "\n",
    "ls /Users/will/Dropbox/zettelkasten | grep '202306' | wc -l"
   ]
  }
 ],
 "metadata": {
  "kernelspec": {
   "display_name": "venv",
   "language": "python",
   "name": "python3"
  },
  "language_info": {
   "codemirror_mode": {
    "name": "ipython",
    "version": 3
   },
   "file_extension": ".py",
   "mimetype": "text/x-python",
   "name": "python",
   "nbconvert_exporter": "python",
   "pygments_lexer": "ipython3",
   "version": "3.9.16"
  },
  "orig_nbformat": 4
 },
 "nbformat": 4,
 "nbformat_minor": 2
}
